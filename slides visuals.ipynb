{
 "cells": [
  {
   "cell_type": "code",
   "execution_count": null,
   "metadata": {},
   "outputs": [],
   "source": [
    "import matplotlib.pyplot as plt\n",
    "import numpy as np\n",
    "import random"
   ]
  },
  {
   "cell_type": "code",
   "execution_count": null,
   "metadata": {},
   "outputs": [],
   "source": [
    "experiment = []\n",
    "for i in range(10000):\n",
    "    if random.random() < 0.4:\n",
    "        experiment.append(-1)\n",
    "    else:\n",
    "        experiment.append(1)\n",
    "_ = plt.hist(experiment, bins=20)\n",
    "plt.ylim((0, 10000))\n",
    "plt.hlines(4000, -1.1, 1.1, linestyles = 'dotted')\n",
    "plt.hlines(6000, -1.1, 1.1, linestyles = 'dotted')\n",
    "_ = plt.xlabel('return')\n",
    "_ = plt.ylabel('occurences')"
   ]
  },
  {
   "cell_type": "code",
   "execution_count": 80,
   "metadata": {},
   "outputs": [
    {
     "data": {
      "image/png": "[encoded data removed]",
      "text/plain": [
       "<Figure size 432x288 with 1 Axes>"
      ]
     },
     "metadata": {
      "needs_background": "light"
     },
     "output_type": "display_data"
    }
   ],
   "source": [
    "experiment = []\n",
    "for i in range(100000):\n",
    "    experiment.append(random.random()*2.5 - 1) #return is uniform from -1.0 to +1.5\n",
    "_ = plt.hist(experiment, bins=20)\n",
    "plt.xlim((-2, 2))\n",
    "plt.vlines(0.25, 0, 5500, linestyles = 'dotted')\n",
    "_ = plt.xlabel('return')\n",
    "_ = plt.ylabel('occurences')"
   ]
  },
  {
   "cell_type": "code",
   "execution_count": 73,
   "metadata": {},
   "outputs": [
    {
     "data": {
      "image/png": "[encoded data removed]",
      "text/plain": [
       "<Figure size 432x288 with 1 Axes>"
      ]
     },
     "metadata": {
      "needs_background": "light"
     },
     "output_type": "display_data"
    }
   ],
   "source": [
    "experiment = []\n",
    "for i in range(100000):\n",
    "    experiment.append(np.random.normal(0.5)) #return is uniform from -0.4 to +0.6\n",
    "_ = plt.hist(experiment, bins=50)\n",
    "plt.vlines(0.5, 0, 7500, linestyles = 'dotted')\n",
    "_ = plt.xlabel('return')\n",
    "_ = plt.ylabel('occurences')"
   ]
  },
  {
   "cell_type": "code",
   "execution_count": 110,
   "metadata": {},
   "outputs": [
    {
     "name": "stdout",
     "output_type": "stream",
     "text": [
      "['spy_intraday-1min_historical-data-11-30-2020.csv', 'spy_intraday-1min_historical-data-11-30-2020 (1).csv', 'spy_intraday-1min_historical-data-11-30-2020 (2).csv', 'spy_intraday-1min_historical-data-11-30-2020 (3).csv', 'spy_intraday-1min_historical-data-11-30-2020 (4).csv', 'spy_intraday-1min_historical-data-11-30-2020 (5).csv', 'spy_intraday-1min_historical-data-11-30-2020 (6).csv', 'spy_intraday-1min_historical-data-11-30-2020 (7).csv', 'spy_intraday-1min_historical-data-11-30-2020 (8).csv']\n",
      "None spy_intraday-1min_historical-data-11-30-2020.csv\n",
      "['10/21/2020 15:25', '344.38', '344.68', '344.37', '344.67', '0.29', '119965'] spy_intraday-1min_historical-data-11-30-2020 (1).csv\n",
      "['09/16/2020 11:51', '341.91', '342', '341.91', '341.93', '0.02', '42082'] spy_intraday-1min_historical-data-11-30-2020 (2).csv\n",
      "['08/11/2020 11:51', '336.765', '336.77', '336.525', '336.54', '-0.24', '75152'] spy_intraday-1min_historical-data-11-30-2020 (3).csv\n",
      "['07/07/2020 11:25', '317.48', '317.5', '317.435', '317.45', '-0.03', '52908'] spy_intraday-1min_historical-data-11-30-2020 (4).csv\n",
      "['06/01/2020 11:51', '304.985', '304.985', '304.89', '304.9001', '-0.0899', '64130'] spy_intraday-1min_historical-data-11-30-2020 (5).csv\n",
      "['04/24/2020 11:51', '279.5988', '279.69', '279.53', '279.665', '0.075', '70211'] spy_intraday-1min_historical-data-11-30-2020 (6).csv\n",
      "['03/19/2020 11:51', '245.16', '245.28', '244.23', '244.44', '-0.76', '516607'] spy_intraday-1min_historical-data-11-30-2020 (7).csv\n",
      "['02/12/2020 10:55', '336.72', '336.79', '336.705', '336.75', '0.035', '40453'] spy_intraday-1min_historical-data-11-30-2020 (8).csv\n"
     ]
    },
    {
     "data": {
      "image/png": "[encoded data removed]",
      "text/plain": [
       "<Figure size 432x288 with 1 Axes>"
      ]
     },
     "metadata": {
      "needs_background": "light"
     },
     "output_type": "display_data"
    }
   ],
   "source": [
    "import csv\n",
    "import os\n",
    "\n",
    "path = 'C:\\\\Users\\\\Alan\\\\Desktop\\\\Kelly-sizing\\\\spy_1min\\\\'\n",
    "\n",
    "files = ['spy_intraday-1min_historical-data-11-30-2020.csv']\n",
    "for i in range(8):\n",
    "    files.append('spy_intraday-1min_historical-data-11-30-2020 (' + str(i+1) + ').csv')\n",
    "print(files)\n",
    "changes = []\n",
    "end_row = None\n",
    "for filename in files:\n",
    "    print(end_row, filename)\n",
    "    with open(filename) as f:\n",
    "        reader = csv.reader(f)\n",
    "        row_count = -1\n",
    "        found_end = False\n",
    "        for row in reader:\n",
    "            row_count += 1\n",
    "            if end_row:\n",
    "                if not found_end:\n",
    "                    if row == end_row:\n",
    "                        found_end = True\n",
    "                    continue\n",
    "            if row_count == 0:\n",
    "                continue\n",
    "            change = float(row[5])/float(row[1])\n",
    "            #if abs(change) < 0.005:\n",
    "                    #changes.append(change)\n",
    "            if row[0][-5:-3] == '09' and float(row[0][-2:]) <= 45: #1min intervals from open to 9:45am\n",
    "                    changes.append(change)\n",
    "            if row_count == 9999:\n",
    "                end_row = row\n",
    "                break\n",
    "        \n",
    "_ = plt.hist(changes, bins=2000)\n",
    "plt.xlim((-0.01, 0.01))\n",
    "_ = plt.xlabel('return')\n",
    "_ = plt.ylabel('occurences')"
   ]
  },
  {
   "cell_type": "code",
   "execution_count": null,
   "metadata": {},
   "outputs": [],
   "source": [
    "s = np.random.standard_cauchy(100000)\n",
    "s1 = s[(s>-25) & (s<25)]  # truncate distribution so it plots well\n",
    "s2 = [i/25 + 0.2 for i in s1]\n",
    "s3 = [i/25 - 0.1 for i in s1]\n",
    "s4 = [i for i in s2 if i <= 1 and i >= -1] + [i for i in s3 if i <= 1 and i >= -1]\n",
    "plt.hist(s4, bins=100)\n",
    "plt.vlines(0.1, 0, 17000, linestyles = 'dotted')\n",
    "plt.show()"
   ]
  },
  {
   "cell_type": "code",
   "execution_count": null,
   "metadata": {},
   "outputs": [],
   "source": [
    "s1 = np.random.standard_cauchy(100000)\n",
    "s2 = [i/25 + 0.1 for i in s1]\n",
    "s3 = [i for i in s2 if i <= 1 and i >= -1]\n",
    "s4 = s3.append(np.random.normal(0.3, 10, 100000))\n",
    "s5 = s3 + [i for i in s4]\n",
    "plt.hist(s5, bins=100)\n",
    "plt.vlines(0.1, 0, 17000, linestyles = 'dotted')\n",
    "plt.show()"
   ]
  },
  {
   "cell_type": "code",
   "execution_count": null,
   "metadata": {},
   "outputs": [],
   "source": []
  }
 ],
 "metadata": {
  "kernelspec": {
   "display_name": "Python 3",
   "language": "python",
   "name": "python3"
  },
  "language_info": {
   "codemirror_mode": {
    "name": "ipython",
    "version": 3
   },
   "file_extension": ".py",
   "mimetype": "text/x-python",
   "name": "python",
   "nbconvert_exporter": "python",
   "pygments_lexer": "ipython3",
   "version": "3.8.3"
  }
 },
 "nbformat": 4,
 "nbformat_minor": 4
}
